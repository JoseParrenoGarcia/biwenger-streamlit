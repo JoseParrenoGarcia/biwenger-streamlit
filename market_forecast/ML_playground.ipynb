{
 "cells": [
  {
   "cell_type": "code",
   "id": "initial_id",
   "metadata": {
    "collapsed": true,
    "ExecuteTime": {
     "end_time": "2025-09-09T04:49:02.086197Z",
     "start_time": "2025-09-09T04:49:02.081307Z"
    }
   },
   "source": [
    "from utils import join_data\n",
    "import pandas as pd\n",
    "\n",
    "selected_players = ['Mbappé']\n",
    "selected_raw_cols = ['date', 'player_name', 'market_value_eur']\n",
    "market_value_pd = join_data(player_names=selected_players)[selected_raw_cols]\n",
    "market_value_pd.head()"
   ],
   "outputs": [
    {
     "data": {
      "text/plain": [
       "        date player_name  market_value_eur\n",
       "0 2025-09-08      Mbappé          23590000\n",
       "1 2025-09-07      Mbappé          23580000\n",
       "2 2025-09-06      Mbappé          23540000\n",
       "3 2025-09-05      Mbappé          23510000\n",
       "4 2025-09-04      Mbappé          23450000"
      ],
      "text/html": [
       "<div>\n",
       "<style scoped>\n",
       "    .dataframe tbody tr th:only-of-type {\n",
       "        vertical-align: middle;\n",
       "    }\n",
       "\n",
       "    .dataframe tbody tr th {\n",
       "        vertical-align: top;\n",
       "    }\n",
       "\n",
       "    .dataframe thead th {\n",
       "        text-align: right;\n",
       "    }\n",
       "</style>\n",
       "<table border=\"1\" class=\"dataframe\">\n",
       "  <thead>\n",
       "    <tr style=\"text-align: right;\">\n",
       "      <th></th>\n",
       "      <th>date</th>\n",
       "      <th>player_name</th>\n",
       "      <th>market_value_eur</th>\n",
       "    </tr>\n",
       "  </thead>\n",
       "  <tbody>\n",
       "    <tr>\n",
       "      <th>0</th>\n",
       "      <td>2025-09-08</td>\n",
       "      <td>Mbappé</td>\n",
       "      <td>23590000</td>\n",
       "    </tr>\n",
       "    <tr>\n",
       "      <th>1</th>\n",
       "      <td>2025-09-07</td>\n",
       "      <td>Mbappé</td>\n",
       "      <td>23580000</td>\n",
       "    </tr>\n",
       "    <tr>\n",
       "      <th>2</th>\n",
       "      <td>2025-09-06</td>\n",
       "      <td>Mbappé</td>\n",
       "      <td>23540000</td>\n",
       "    </tr>\n",
       "    <tr>\n",
       "      <th>3</th>\n",
       "      <td>2025-09-05</td>\n",
       "      <td>Mbappé</td>\n",
       "      <td>23510000</td>\n",
       "    </tr>\n",
       "    <tr>\n",
       "      <th>4</th>\n",
       "      <td>2025-09-04</td>\n",
       "      <td>Mbappé</td>\n",
       "      <td>23450000</td>\n",
       "    </tr>\n",
       "  </tbody>\n",
       "</table>\n",
       "</div>"
      ]
     },
     "execution_count": 4,
     "metadata": {},
     "output_type": "execute_result"
    }
   ],
   "execution_count": 4
  },
  {
   "metadata": {},
   "cell_type": "code",
   "outputs": [],
   "execution_count": null,
   "source": "",
   "id": "81f775720a84c359"
  }
 ],
 "metadata": {
  "kernelspec": {
   "display_name": "Python 3",
   "language": "python",
   "name": "python3"
  },
  "language_info": {
   "codemirror_mode": {
    "name": "ipython",
    "version": 2
   },
   "file_extension": ".py",
   "mimetype": "text/x-python",
   "name": "python",
   "nbconvert_exporter": "python",
   "pygments_lexer": "ipython2",
   "version": "2.7.6"
  }
 },
 "nbformat": 4,
 "nbformat_minor": 5
}
